{
 "cells": [
  {
   "cell_type": "code",
   "execution_count": null,
   "metadata": {},
   "outputs": [],
   "source": [
    "# Create a dummy dictionary for demonstration purposes\n",
    "dummy_dict = {\n",
    "    'head_0': {\n",
    "        (0.1, 0.2, 0.3, 1): 0.05,\n",
    "        (0.4, 0.5, 0.6, 3): 0.10,\n",
    "        (0.7, 0.8, 0.9, 2): 0.15\n",
    "    },\n",
    "    'head_1': {\n",
    "        (0.2, 0.3, 0.4, 0): 0.08,\n",
    "        (0.5, 0.6, 0.7, 4): 0.12,\n",
    "        (0.8, 0.9, 1.0, 1): 0.18\n",
    "    },\n",
    "    'head_2': {\n",
    "        (0.3, 0.4, 0.5, 2): 0.07,\n",
    "        (0.6, 0.7, 0.8, 0): 0.14,\n",
    "        (0.9, 1.0, 0.1, 3): 0.21\n",
    "    }\n",
    "}\n",
    "\n",
    "print(\"Dummy dictionary created:\")\n",
    "for head, paths in dummy_dict.items():\n",
    "    print(f\"\\n{head}:\")\n",
    "    for path, probability in paths.items():\n",
    "        print(f\"  Path {path}: Probability {probability}\")\n",
    "\n",
    "print(dummy_dict.items())"
   ]
  }
 ],
 "metadata": {
  "kernelspec": {
   "display_name": "Python 3",
   "language": "python",
   "name": "python3"
  },
  "language_info": {
   "codemirror_mode": {
    "name": "ipython",
    "version": 3
   },
   "file_extension": ".py",
   "mimetype": "text/x-python",
   "name": "python",
   "nbconvert_exporter": "python",
   "pygments_lexer": "ipython3",
   "version": "3.11.3"
  }
 },
 "nbformat": 4,
 "nbformat_minor": 2
}
